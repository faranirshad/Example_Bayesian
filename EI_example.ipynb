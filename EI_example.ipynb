{
  "cells": [
    {
      "cell_type": "markdown",
      "metadata": {
        "id": "view-in-github",
        "colab_type": "text"
      },
      "source": [
        "<a href=\"https://colab.research.google.com/github/faranirshad/Example_Bayesian/blob/main/EI_example.ipynb\" target=\"_parent\"><img src=\"https://colab.research.google.com/assets/colab-badge.svg\" alt=\"Open In Colab\"/></a>"
      ]
    },
    {
      "cell_type": "code",
      "execution_count": 69,
      "metadata": {
        "colab": {
          "base_uri": "https://localhost:8080/"
        },
        "id": "5Q2gpmBpr-_e",
        "outputId": "e6918c24-012d-4e62-fb09-feccc5c87275"
      },
      "outputs": [
        {
          "output_type": "stream",
          "name": "stdout",
          "text": [
            "Requirement already satisfied: botorch in /usr/local/lib/python3.10/dist-packages (0.9.2)\n",
            "Requirement already satisfied: multipledispatch in /usr/local/lib/python3.10/dist-packages (from botorch) (1.0.0)\n",
            "Requirement already satisfied: scipy in /usr/local/lib/python3.10/dist-packages (from botorch) (1.11.2)\n",
            "Requirement already satisfied: torch>=1.13.1 in /usr/local/lib/python3.10/dist-packages (from botorch) (2.0.1+cu118)\n",
            "Requirement already satisfied: pyro-ppl>=1.8.4 in /usr/local/lib/python3.10/dist-packages (from botorch) (1.8.6)\n",
            "Requirement already satisfied: gpytorch==1.11 in /usr/local/lib/python3.10/dist-packages (from botorch) (1.11)\n",
            "Requirement already satisfied: linear-operator==0.5.1 in /usr/local/lib/python3.10/dist-packages (from botorch) (0.5.1)\n",
            "Requirement already satisfied: scikit-learn in /usr/local/lib/python3.10/dist-packages (from gpytorch==1.11->botorch) (1.2.2)\n",
            "Requirement already satisfied: jaxtyping>=0.2.9 in /usr/local/lib/python3.10/dist-packages (from linear-operator==0.5.1->botorch) (0.2.22)\n",
            "Requirement already satisfied: typeguard~=2.13.3 in /usr/local/lib/python3.10/dist-packages (from linear-operator==0.5.1->botorch) (2.13.3)\n",
            "Requirement already satisfied: numpy>=1.7 in /usr/local/lib/python3.10/dist-packages (from pyro-ppl>=1.8.4->botorch) (1.23.5)\n",
            "Requirement already satisfied: opt-einsum>=2.3.2 in /usr/local/lib/python3.10/dist-packages (from pyro-ppl>=1.8.4->botorch) (3.3.0)\n",
            "Requirement already satisfied: pyro-api>=0.1.1 in /usr/local/lib/python3.10/dist-packages (from pyro-ppl>=1.8.4->botorch) (0.1.2)\n",
            "Requirement already satisfied: tqdm>=4.36 in /usr/local/lib/python3.10/dist-packages (from pyro-ppl>=1.8.4->botorch) (4.66.1)\n",
            "Requirement already satisfied: filelock in /usr/local/lib/python3.10/dist-packages (from torch>=1.13.1->botorch) (3.12.2)\n",
            "Requirement already satisfied: typing-extensions in /usr/local/lib/python3.10/dist-packages (from torch>=1.13.1->botorch) (4.5.0)\n",
            "Requirement already satisfied: sympy in /usr/local/lib/python3.10/dist-packages (from torch>=1.13.1->botorch) (1.12)\n",
            "Requirement already satisfied: networkx in /usr/local/lib/python3.10/dist-packages (from torch>=1.13.1->botorch) (3.1)\n",
            "Requirement already satisfied: jinja2 in /usr/local/lib/python3.10/dist-packages (from torch>=1.13.1->botorch) (3.1.2)\n",
            "Requirement already satisfied: triton==2.0.0 in /usr/local/lib/python3.10/dist-packages (from torch>=1.13.1->botorch) (2.0.0)\n",
            "Requirement already satisfied: cmake in /usr/local/lib/python3.10/dist-packages (from triton==2.0.0->torch>=1.13.1->botorch) (3.27.4.1)\n",
            "Requirement already satisfied: lit in /usr/local/lib/python3.10/dist-packages (from triton==2.0.0->torch>=1.13.1->botorch) (16.0.6)\n",
            "Requirement already satisfied: MarkupSafe>=2.0 in /usr/local/lib/python3.10/dist-packages (from jinja2->torch>=1.13.1->botorch) (2.1.3)\n",
            "Requirement already satisfied: joblib>=1.1.1 in /usr/local/lib/python3.10/dist-packages (from scikit-learn->gpytorch==1.11->botorch) (1.3.2)\n",
            "Requirement already satisfied: threadpoolctl>=2.0.0 in /usr/local/lib/python3.10/dist-packages (from scikit-learn->gpytorch==1.11->botorch) (3.2.0)\n",
            "Requirement already satisfied: mpmath>=0.19 in /usr/local/lib/python3.10/dist-packages (from sympy->torch>=1.13.1->botorch) (1.3.0)\n"
          ]
        }
      ],
      "source": [
        "import matplotlib.pyplot as plt\n",
        "import numpy as np\n",
        "import torch\n",
        "\n",
        "from botorch import fit_gpytorch_model\n",
        "from botorch.models.transforms.outcome import Standardize\n",
        "from gpytorch.mlls.exact_marginal_log_likelihood import ExactMarginalLogLikelihood\n",
        "from botorch.optim.optimize import optimize_acqf\n",
        "from botorch.models.gp_regression import SingleTaskGP\n",
        "from botorch.sampling import SobolQMCNormalSampler\n",
        "from botorch.acquisition import qExpectedImprovement"
      ]
    },
    {
      "cell_type": "code",
      "execution_count": null,
      "metadata": {
        "id": "nl3tHm--r-_f"
      },
      "outputs": [],
      "source": [
        "# In pytorch we deal with tensors which at this point you can just think of as pytorch equivalent of numpy arrays"
      ]
    },
    {
      "cell_type": "code",
      "execution_count": 70,
      "metadata": {
        "id": "nAibpA-Mr-_g"
      },
      "outputs": [],
      "source": [
        "\n",
        "# Setting up a global variable tkwargs which has the information of which CPU or GPU\n",
        "# to initialize the tensors on.\n",
        "if torch.cuda.is_available():\n",
        "    torch.cuda.set_device(4)\n",
        "    tkwargs = {\n",
        "        \"dtype\": torch.double,\n",
        "        \"device\": torch.cuda.current_device(),}\n",
        "else:\n",
        "    tkwargs = {\n",
        "        \"dtype\": torch.double,\n",
        "        \"device\": torch.device(\"cpu\"),}\n",
        "\n",
        "    # This function generates some random initial data that we use to start the optimization. The args are the input dimension\n",
        "    # of the problem, the number of initial points.\n",
        "def generate_initial_data(dim_x,points):\n",
        "    train_x=np.random.rand(points,dim_x)\n",
        "    train_x=torch.from_numpy(train_x)\n",
        "    train_x=train_x.to(**tkwargs)\n",
        "    train_obj=problem(train_x)\n",
        "    return train_x, train_obj\n",
        "\n",
        "\n",
        "# This function models our objective function. It generates a GP and then marginal log likelihood of it that is used as a\n",
        "# criteria of how good the GP models our data.\n",
        "def initialize_model(train_x, train_obj):\n",
        "\n",
        "    model = SingleTaskGP(\n",
        "        train_x,\n",
        "        train_obj,\n",
        "        outcome_transform=Standardize(m=train_obj.shape[-1])\n",
        "    )\n",
        "    #model.likelihood.noise_covar.register_constraint(\"raw_noise\", GreaterThan(1e-1)) # Only use if you want to add aritificial noise\n",
        "    mll = ExactMarginalLogLikelihood(model.likelihood, model)\n",
        "    return mll, model\n",
        "\n",
        "# This is a helper function that deals with converting numpy to tensor arrays and calling the objective function\n",
        "# Here we simply use a Forrester function defined below.\n",
        "def problem(x):\n",
        "    X=x.cpu()\n",
        "    X=X.numpy()\n",
        "    print('Sim Input',X)\n",
        "    y=np.zeros((X.shape[0],1))\n",
        "    y = np.apply_along_axis(forrester, 1, X)\n",
        "    y_out=torch.from_numpy(y).to(**tkwargs)\n",
        "    print('Sim Output MO',y_out)\n",
        "    return y_out\n",
        "\n",
        "\n",
        "def forrester(x):\n",
        "    val=-((6 * x - 2)**2 * np.sin(12 * x - 4) + 7.025)\n",
        "    return val\n",
        "\n",
        "def Sinc(x):\n",
        "    x = 50*(x-0.5)\n",
        "    val=np.sin(x)/x\n",
        "    return val\n",
        "\n",
        "# This is a helper function that calls the qEI acquisition function and then optimizes this acquisition function\n",
        "# The input parameters at which qEI is maximized would be the input parameters where we would call our objective function next.\n",
        "def optimize_qEI_and_get_observation(model,bounds,train_obj,BATCH_SIZE):\n",
        "    \"\"\"Optimizes LCB and returns a new candidate, observation, and cost.\"\"\"\n",
        "    best_value = train_obj.max()\n",
        "    sampler = SobolQMCNormalSampler(sample_shape=torch.Size([512]), seed=0)\n",
        "    qEI= qExpectedImprovement(model, best_f=best_value, sampler=sampler)\n",
        "\n",
        "    candidates, acq_value = optimize_acqf(\n",
        "        acq_function=qEI,\n",
        "        bounds=bounds,\n",
        "        q=BATCH_SIZE,\n",
        "        num_restarts=10,\n",
        "        raw_samples=512,\n",
        "        options={\"batch_limit\": 5, \"maxiter\": 200},\n",
        "    )\n",
        "\n",
        "    new_x = candidates.detach()\n",
        "    new_obj= problem(new_x)\n",
        "    return new_x, new_obj"
      ]
    },
    {
      "cell_type": "code",
      "execution_count": 72,
      "metadata": {
        "id": "iA1DSiapr-_h"
      },
      "outputs": [],
      "source": [
        "##############################-----------------------------------------------------##############################################\n",
        "# Setting variables\n",
        "dim_x=1\n",
        "dim_y=1\n",
        "n_TRIALS = 1  # Number of trials to run\n",
        "n_BATCH = 15  # Number of iterations in one trial\n",
        "BATCH_SIZE = 1 # Number of parallel evaluations\n",
        "n_INIT = 2     # Number of initial points\n",
        "standard_bounds = torch.tensor([[0.0] * dim_x, [1.0] * dim_x], **tkwargs) # the bounds of the problem\n",
        "# The bounds constrain our input parameters to be within a certain range.\n",
        "##############################-----------------------------------------------------##############################################"
      ]
    },
    {
      "cell_type": "code",
      "execution_count": 73,
      "metadata": {
        "colab": {
          "base_uri": "https://localhost:8080/"
        },
        "id": "sR7VEMTkr-_i",
        "outputId": "ec05e288-9d3a-4381-c9d9-15707db95336"
      },
      "outputs": [
        {
          "output_type": "stream",
          "name": "stdout",
          "text": [
            "***************************************************************************\n",
            "Trial is  0\n",
            "Sim Input [[0.13850719]\n",
            " [0.65728785]]\n",
            "Sim Output MO tensor([[-6.0413],\n",
            "        [-4.4612]], dtype=torch.float64)\n",
            "----------------------------\n",
            "Iteration Number is  1\n",
            "Sim Input [[1.]]\n",
            "Sim Output MO tensor([[-22.8547]], dtype=torch.float64)\n",
            "----------------------------\n",
            "Iteration Number is  2\n",
            "Sim Input [[1.]]\n",
            "Sim Output MO tensor([[-22.8547]], dtype=torch.float64)\n",
            "----------------------------\n",
            "Iteration Number is  3\n",
            "Sim Input [[0.41034082]]\n",
            "Sim Output MO tensor([[-7.1954]], dtype=torch.float64)\n",
            "----------------------------\n",
            "Iteration Number is  4\n",
            "Sim Input [[0.41199341]]\n",
            "Sim Output MO tensor([[-7.2054]], dtype=torch.float64)\n",
            "----------------------------\n",
            "Iteration Number is  5\n",
            "Sim Input [[0.]]\n",
            "Sim Output MO tensor([[-10.0522]], dtype=torch.float64)\n",
            "----------------------------\n",
            "Iteration Number is  6\n",
            "Sim Input [[0.]]\n",
            "Sim Output MO tensor([[-10.0522]], dtype=torch.float64)\n",
            "----------------------------\n",
            "Iteration Number is  7\n",
            "Sim Input [[0.5640483]]\n",
            "Sim Output MO tensor([[-7.7233]], dtype=torch.float64)\n",
            "----------------------------\n",
            "Iteration Number is  8\n",
            "Sim Input [[0.56445811]]\n",
            "Sim Output MO tensor([[-7.7170]], dtype=torch.float64)\n",
            "----------------------------\n",
            "Iteration Number is  9\n",
            "Sim Input [[0.26474775]]\n",
            "Sim Output MO tensor([[-6.9008]], dtype=torch.float64)\n",
            "----------------------------\n",
            "Iteration Number is  10\n",
            "Sim Input [[0.26445026]]\n",
            "Sim Output MO tensor([[-6.8993]], dtype=torch.float64)\n",
            "----------------------------\n",
            "Iteration Number is  11\n",
            "Sim Input [[0.75645353]]\n",
            "Sim Output MO tensor([[-1.0046]], dtype=torch.float64)\n",
            "----------------------------\n",
            "Iteration Number is  12\n",
            "Sim Input [[0.75617414]]\n",
            "Sim Output MO tensor([[-1.0049]], dtype=torch.float64)\n",
            "----------------------------\n",
            "Iteration Number is  13\n",
            "Sim Input [[0.79615952]]\n",
            "Sim Output MO tensor([[-1.8866]], dtype=torch.float64)\n",
            "----------------------------\n",
            "Iteration Number is  14\n",
            "Sim Input [[0.79620247]]\n",
            "Sim Output MO tensor([[-1.8886]], dtype=torch.float64)\n",
            "----------------------------\n",
            "Iteration Number is  15\n",
            "Sim Input [[0.74475095]]\n",
            "Sim Output MO tensor([[-1.0846]], dtype=torch.float64)\n"
          ]
        }
      ],
      "source": [
        "# Running Opt\n",
        "# Defining arrays that would have the input and output data.\n",
        "train_x = torch.zeros(n_INIT+n_BATCH,dim_x,n_TRIALS).to(**tkwargs)\n",
        "train_obj = torch.zeros(n_INIT+n_BATCH,dim_y,n_TRIALS).to(**tkwargs)\n",
        "\n",
        "for trial in range(0, n_TRIALS):\n",
        "    torch.manual_seed(trial)\n",
        "    print('***************************************************************************')\n",
        "    print('Trial is ',trial)\n",
        "    # Generating initial data and training the model.\n",
        "    train_x[:n_INIT,:,trial], train_obj[:n_INIT,:,trial] = generate_initial_data(dim_x,n_INIT)\n",
        "    mll, model = initialize_model(train_x[:n_INIT,:,trial], train_obj[:n_INIT,:,trial])\n",
        "    # run N_BATCH rounds of BayesOpt after the initial random batch\n",
        "    for iteration in range(0, n_BATCH ):\n",
        "            print('----------------------------')\n",
        "            print('Iteration Number is ',iteration+1)\n",
        "\n",
        "            # fit the models\n",
        "            fit_gpytorch_model(mll)\n",
        "            # optimize acquisition functions and get new observations\n",
        "            new_x,new_obj= optimize_qEI_and_get_observation(\n",
        "                model,standard_bounds,BATCH_SIZE)\n",
        "            # Storing new values\n",
        "            train_x[n_INIT+iteration,:,trial]=new_x\n",
        "            train_obj[n_INIT+iteration,:,trial]=new_obj\n",
        "            # reinitialize the models so they are ready for fitting on next iteration\n",
        "            mll, model = initialize_model(train_x[:n_INIT+iteration,:,trial], train_obj[:n_INIT+iteration,:,trial])"
      ]
    },
    {
      "cell_type": "code",
      "execution_count": 74,
      "metadata": {
        "id": "WLNXz3qor-_j"
      },
      "outputs": [],
      "source": [
        "# Converting tensors to numpy arrays again\n",
        "train_x=train_x.cpu().numpy()\n",
        "train_obj=train_obj.cpu().numpy()"
      ]
    },
    {
      "cell_type": "code",
      "execution_count": 75,
      "metadata": {
        "id": "JoReZEsIr-_j"
      },
      "outputs": [],
      "source": [
        "# Generating the True function\n",
        "x = np.linspace(0,1,100)\n",
        "y = forrester(x)\n"
      ]
    },
    {
      "cell_type": "code",
      "execution_count": 76,
      "metadata": {
        "id": "6iB98CThr-_k",
        "colab": {
          "base_uri": "https://localhost:8080/",
          "height": 581
        },
        "outputId": "f358eb58-6284-4134-8b3e-43788923ecda"
      },
      "outputs": [
        {
          "output_type": "execute_result",
          "data": {
            "text/plain": [
              "<matplotlib.legend.Legend at 0x7c99d02a78b0>"
            ]
          },
          "metadata": {},
          "execution_count": 76
        },
        {
          "output_type": "display_data",
          "data": {
            "text/plain": [
              "<Figure size 900x600 with 1 Axes>"
            ],
            "image/png": "[encoded data removed]"
          },
          "metadata": {}
        }
      ],
      "source": [
        "# The points are colored according to the sequence they were chosen during the optimization.\n",
        "import matplotlib.cm as cm\n",
        "c = cm.jet(np.linspace(0,1,n_BATCH+n_INIT))\n",
        "fig, axes = plt.subplots(1, 1, figsize=(9, 6))\n",
        "axes.plot(x,y,label='True Function')\n",
        "axes.scatter(train_x[:,:,0],train_obj[:,:,0],marker='o',color=c,label='Optimization points')\n",
        "axes.set_title('Forrester Function Opt')\n",
        "axes.set_ylabel('Forrester(x)')\n",
        "axes.set_xlabel('x')\n",
        "axes.legend()"
      ]
    },
    {
      "cell_type": "code",
      "source": [
        "# Redefining the problem to optimize a Sinc function instead of a forrester function.\n",
        "n_BATCH = 30\n",
        "\n",
        "\n",
        "def problem(x):\n",
        "    X=x.cpu()\n",
        "    X=X.numpy()\n",
        "    print('Sim Input',X)\n",
        "    y=np.zeros((X.shape[0],1))\n",
        "    y = np.apply_along_axis(Sinc, 1, X)\n",
        "    y_out=torch.from_numpy(y).to(**tkwargs)\n",
        "    print('Sim Output MO',y_out)\n",
        "    return y_out"
      ],
      "metadata": {
        "id": "0qGOEO4ELceY"
      },
      "execution_count": 84,
      "outputs": []
    },
    {
      "cell_type": "code",
      "source": [
        "# Running Opt\n",
        "# Defining arrays that would have the input and output data.\n",
        "train_x=torch.zeros(n_INIT+n_BATCH,dim_x,n_TRIALS).to(**tkwargs)\n",
        "train_obj=torch.zeros(n_INIT+n_BATCH,dim_y,n_TRIALS).to(**tkwargs)\n",
        "\n",
        "for trial in range(0, n_TRIALS):\n",
        "    torch.manual_seed(trial)\n",
        "    print('***************************************************************************')\n",
        "    print('Trial is ',trial)\n",
        "    # Generating initial data and training the model.\n",
        "    train_x[:n_INIT,:,trial], train_obj[:n_INIT,:,trial] = generate_initial_data(dim_x,n_INIT)\n",
        "    mll, model = initialize_model(train_x[:n_INIT,:,trial], train_obj[:n_INIT,:,trial])\n",
        "    # run N_BATCH rounds of BayesOpt after the initial random batch\n",
        "    for iteration in range(0, n_BATCH ):\n",
        "            print('----------------------------')\n",
        "            print('Iteration Number is ',iteration+1)\n",
        "\n",
        "            # fit the models\n",
        "            fit_gpytorch_model(mll)\n",
        "            # optimize acquisition functions and get new observations\n",
        "            new_x,new_obj= optimize_qEI_and_get_observation(\n",
        "                model,standard_bounds,BATCH_SIZE)\n",
        "            # Storing new values\n",
        "            train_x[n_INIT+iteration,:,trial]=new_x\n",
        "            train_obj[n_INIT+iteration,:,trial]=new_obj\n",
        "            # reinitialize the models so they are ready for fitting on next iteration\n",
        "            mll, model = initialize_model(train_x[:n_INIT+iteration,:,trial], train_obj[:n_INIT+iteration,:,trial])"
      ],
      "metadata": {
        "colab": {
          "base_uri": "https://localhost:8080/"
        },
        "id": "JwhrLH9aLlNI",
        "outputId": "e734213c-23fb-4e89-d49e-ada67b1f4057"
      },
      "execution_count": 85,
      "outputs": [
        {
          "output_type": "stream",
          "name": "stdout",
          "text": [
            "***************************************************************************\n",
            "Trial is  0\n",
            "Sim Input [[0.02483329]\n",
            " [0.54981225]]\n",
            "Sim Output MO tensor([[-0.0413],\n",
            "        [ 0.2433]], dtype=torch.float64)\n",
            "----------------------------\n",
            "Iteration Number is  1\n",
            "Sim Input [[1.]]\n",
            "Sim Output MO tensor([[-0.0053]], dtype=torch.float64)\n",
            "----------------------------\n",
            "Iteration Number is  2\n",
            "Sim Input [[1.]]\n",
            "Sim Output MO tensor([[-0.0053]], dtype=torch.float64)\n",
            "----------------------------\n",
            "Iteration Number is  3\n",
            "Sim Input [[0.37626057]]\n",
            "Sim Output MO tensor([[-0.0155]], dtype=torch.float64)\n",
            "----------------------------\n",
            "Iteration Number is  4\n",
            "Sim Input [[0.37188072]]\n",
            "Sim Output MO tensor([[0.0191]], dtype=torch.float64)\n",
            "----------------------------\n",
            "Iteration Number is  5\n",
            "Sim Input [[0.70169047]]\n",
            "Sim Output MO tensor([[-0.0608]], dtype=torch.float64)\n",
            "----------------------------\n",
            "Iteration Number is  6\n",
            "Sim Input [[0.69638016]]\n",
            "Sim Output MO tensor([[-0.0391]], dtype=torch.float64)\n",
            "----------------------------\n",
            "Iteration Number is  7\n",
            "Sim Input [[0.55502944]]\n",
            "Sim Output MO tensor([[0.1382]], dtype=torch.float64)\n",
            "----------------------------\n",
            "Iteration Number is  8\n",
            "Sim Input [[0.5940591]]\n",
            "Sim Output MO tensor([[-0.2126]], dtype=torch.float64)\n",
            "----------------------------\n",
            "Iteration Number is  9\n",
            "Sim Input [[0.49691512]]\n",
            "Sim Output MO tensor([[0.9960]], dtype=torch.float64)\n",
            "----------------------------\n",
            "Iteration Number is  10\n",
            "Sim Input [[0.]]\n",
            "Sim Output MO tensor([[-0.0053]], dtype=torch.float64)\n",
            "----------------------------\n",
            "Iteration Number is  11\n",
            "Sim Input [[0.24389139]]\n",
            "Sim Output MO tensor([[0.0185]], dtype=torch.float64)\n",
            "----------------------------\n",
            "Iteration Number is  12\n",
            "Sim Input [[0.36298124]]\n",
            "Sim Output MO tensor([[0.0785]], dtype=torch.float64)\n",
            "----------------------------\n",
            "Iteration Number is  13\n",
            "Sim Input [[0.44771841]]\n",
            "Sim Output MO tensor([[0.1926]], dtype=torch.float64)\n",
            "----------------------------\n",
            "Iteration Number is  14\n",
            "Sim Input [[0.4720098]]\n",
            "Sim Output MO tensor([[0.7041]], dtype=torch.float64)\n",
            "----------------------------\n",
            "Iteration Number is  15\n",
            "Sim Input [[0.4807842]]\n",
            "Sim Output MO tensor([[0.8531]], dtype=torch.float64)\n",
            "----------------------------\n",
            "Iteration Number is  16\n",
            "Sim Input [[0.50621979]]\n",
            "Sim Output MO tensor([[0.9840]], dtype=torch.float64)\n",
            "----------------------------\n",
            "Iteration Number is  17\n",
            "Sim Input [[0.50514815]]\n",
            "Sim Output MO tensor([[0.9890]], dtype=torch.float64)\n",
            "----------------------------\n",
            "Iteration Number is  18\n",
            "Sim Input [[0.50001596]]\n",
            "Sim Output MO tensor([[1.0000]], dtype=torch.float64)\n",
            "----------------------------\n",
            "Iteration Number is  19\n",
            "Sim Input [[0.49973084]]\n",
            "Sim Output MO tensor([[1.0000]], dtype=torch.float64)\n",
            "----------------------------\n",
            "Iteration Number is  20\n",
            "Sim Input [[0.49972426]]\n",
            "Sim Output MO tensor([[1.0000]], dtype=torch.float64)\n",
            "----------------------------\n",
            "Iteration Number is  21\n",
            "Sim Input [[0.49975124]]\n",
            "Sim Output MO tensor([[1.0000]], dtype=torch.float64)\n",
            "----------------------------\n",
            "Iteration Number is  22\n",
            "Sim Input [[0.49978531]]\n",
            "Sim Output MO tensor([[1.0000]], dtype=torch.float64)\n",
            "----------------------------\n",
            "Iteration Number is  23\n",
            "Sim Input [[0.49980998]]\n",
            "Sim Output MO tensor([[1.0000]], dtype=torch.float64)\n",
            "----------------------------\n",
            "Iteration Number is  24\n",
            "Sim Input [[0.49983027]]\n",
            "Sim Output MO tensor([[1.0000]], dtype=torch.float64)\n",
            "----------------------------\n",
            "Iteration Number is  25\n",
            "Sim Input [[0.499842]]\n",
            "Sim Output MO tensor([[1.0000]], dtype=torch.float64)\n",
            "----------------------------\n",
            "Iteration Number is  26\n",
            "Sim Input [[0.49986691]]\n",
            "Sim Output MO tensor([[1.0000]], dtype=torch.float64)\n",
            "----------------------------\n",
            "Iteration Number is  27\n",
            "Sim Input [[0.50189138]]\n",
            "Sim Output MO tensor([[0.9985]], dtype=torch.float64)\n",
            "----------------------------\n",
            "Iteration Number is  28\n",
            "Sim Input [[0.49989767]]\n",
            "Sim Output MO tensor([[1.0000]], dtype=torch.float64)\n",
            "----------------------------\n",
            "Iteration Number is  29\n",
            "Sim Input [[0.49970881]]\n",
            "Sim Output MO tensor([[1.0000]], dtype=torch.float64)\n",
            "----------------------------\n",
            "Iteration Number is  30\n",
            "Sim Input [[0.4997148]]\n",
            "Sim Output MO tensor([[1.0000]], dtype=torch.float64)\n"
          ]
        }
      ]
    },
    {
      "cell_type": "code",
      "source": [
        "# Generating the True function\n",
        "x = np.linspace(0,1,10000)\n",
        "y2 = Sinc(x)"
      ],
      "metadata": {
        "id": "69lLo5dNMc3O"
      },
      "execution_count": 87,
      "outputs": []
    },
    {
      "cell_type": "code",
      "source": [
        "# The points are colored according to the sequence they were chosen during the optimization.\n",
        "import matplotlib.cm as cm\n",
        "c = cm.jet(np.linspace(0,1,n_BATCH+n_INIT))\n",
        "fig, axes = plt.subplots(1, 1, figsize=(9, 6))\n",
        "axes.plot(x,y2,label='True Function')\n",
        "axes.scatter(train_x[:,:,0],train_obj[:,:,0],marker='o',color=c,label='Optimization points')\n",
        "axes.set_title('Sinc Function Opt')\n",
        "axes.set_ylabel('Sinc(x)')\n",
        "axes.set_xlabel('x')\n",
        "axes.legend()"
      ],
      "metadata": {
        "colab": {
          "base_uri": "https://localhost:8080/",
          "height": 581
        },
        "id": "syMwpGlhJns7",
        "outputId": "d149f2ee-ca05-48f5-a470-e46213191791"
      },
      "execution_count": 88,
      "outputs": [
        {
          "output_type": "execute_result",
          "data": {
            "text/plain": [
              "<matplotlib.legend.Legend at 0x7c99d0121cf0>"
            ]
          },
          "metadata": {},
          "execution_count": 88
        },
        {
          "output_type": "display_data",
          "data": {
            "text/plain": [
              "<Figure size 900x600 with 1 Axes>"
            ],
            "image/png": "[encoded data removed]"
          },
          "metadata": {}
        }
      ]
    },
    {
      "cell_type": "code",
      "source": [],
      "metadata": {
        "id": "XuvrPAAfKNVr"
      },
      "execution_count": null,
      "outputs": []
    }
  ],
  "metadata": {
    "kernelspec": {
      "display_name": "Python 3 (ipykernel)",
      "language": "python",
      "name": "python3"
    },
    "language_info": {
      "codemirror_mode": {
        "name": "ipython",
        "version": 3
      },
      "file_extension": ".py",
      "mimetype": "text/x-python",
      "name": "python",
      "nbconvert_exporter": "python",
      "pygments_lexer": "ipython3",
      "version": "3.8.5"
    },
    "colab": {
      "provenance": [],
      "include_colab_link": true
    }
  },
  "nbformat": 4,
  "nbformat_minor": 0
}
